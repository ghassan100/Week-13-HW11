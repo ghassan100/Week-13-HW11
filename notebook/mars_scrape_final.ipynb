{
 "cells": [
  {
   "cell_type": "markdown",
   "metadata": {},
   "source": [
    "## Step 1 Scraping"
   ]
  },
  {
   "cell_type": "code",
   "execution_count": 23,
   "metadata": {},
   "outputs": [],
   "source": [
    "from urllib.parse import urlsplit\n",
    "from selenium import webdriver\n",
    "from bs4 import BeautifulSoup as bs\n",
    "from splinter import Browser\n",
    "from urllib.request import urlopen, urlretrieve\n",
    "from urllib.parse import urljoin\n",
    "import os\n",
    "import urllib\n",
    "import pandas as pd\n",
    "import time\n",
    "def init_browser():\n",
    "#pointing to the directory where chromedriver exists\n",
    "    exec_path = {'executable_path': '/Users/ghassan/Downloads/chromedriver'}\n",
    "\n",
    "    return Browser('chrome', headless=False, **exec_path)"
   ]
  },
  {
   "cell_type": "markdown",
   "metadata": {},
   "source": [
    "## viewing and scraping Mars related Web Sites"
   ]
  },
  {
   "cell_type": "code",
   "execution_count": 25,
   "metadata": {},
   "outputs": [],
   "source": [
    "def scrape():\n",
    "#visiting web pages\n",
    "    url1 = 'https://mars.nasa.gov/news/'\n",
    "    url2 = 'https://www.jpl.nasa.gov/spaceimages/?search=&category=Mars'\n",
    "    url3 = 'https://twitter.com/marswxreport?lang=en'\n",
    "    url4 = 'http://space-facts.com/mars/'\n",
    "    url5 = 'https://astrogeology.usgs.gov/search/results?q=hemisphere+enhanced&k1=target&v1=Mars'\n",
    "\n",
    "    db_mars_collection ={}\n",
    "#BEG  NASA\n",
    "    browser = init_browser()\n",
    "# visit NASA web for two text items\n",
    "    browser.visit(url1)\n",
    "#using bs to write it into html\n",
    "    html = browser.html\n",
    "# making soup\n",
    "    soup = bs(html,\"html.parser\")\n",
    "#mandaitory  sleep for two seconds\n",
    "    time.sleep(2)\n",
    "#we have the soup let find the beanas\n",
    "    news_title = soup.find(\"div\",class_=\"content_title\").text\n",
    "    news_p = soup.find(\"div\", class_=\"article_teaser_body\").text\n",
    "    print(f\"Title: {news_title}\")\n",
    "    print(f\"Paragraph: {news_p}\")\n",
    "\n",
    "#building the dictionary\n",
    "    db_mars_collection['news_title'] = news_title\n",
    "    db_mars_collection['news_parapgraph'] = news_p\n",
    "#END  NASA\n",
    "\n",
    "#BEG JPL\n",
    "#initialize browser for second web site\n",
    "    browser=init_browser()\n",
    "#visiting the JPL page url2\n",
    "    browser.visit(url2)\n",
    "    basename_url = \"{0.scheme}://{0.netloc}/\".format(urlsplit(url2))\n",
    "    print(basename_url)\n",
    "    time.sleep(2)\n",
    "\n",
    "\n",
    "#click on FULL IMAGE and use by_css to find image URL    \n",
    "    browser.click_link_by_partial_text('FULL IMAGE')\n",
    "    featured_image_url = browser.find_by_css('.fancybox-image').first['src']\n",
    "\n",
    "    db_mars_collection['featured_image_url'] = featured_image_url\n",
    "\n",
    "\n",
    "\n",
    "#END  JPL\n",
    "#BEG Mars Weather  twitter\n",
    "    browser = init_browser()\n",
    "    browser.visit(url3)\n",
    "    for text in browser.find_by_css('.tweet-text'):\n",
    "        if text.text.partition(' ')[0] == 'Sol':\n",
    "            mars_weather = text.text\n",
    "            break\n",
    "    db_mars_collection['mars_weather'] = mars_weather\n",
    "#EMD Mars Weather  twitter\n",
    "\n",
    "#BEG  FACTS TABLE \n",
    "    time.sleep(2)\n",
    "    browser=init_browser()\n",
    "    browser.visit(url4)\n",
    "#visiting the facts  page url4\n",
    "    table = pd.read_html(url4)\n",
    "    df = table[0]\n",
    "    df.columns = [\"Parameter\", \"Values\"]\n",
    "    df = df.set_index([\"Parameter\"])\n",
    "    df = df.replace(\"\\n\", \"\")\n",
    "    mars_facts = df.to_html(justify='left')\n",
    "    db_mars_collection['mars_facts'] = mars_facts\n",
    "#END  FACTS TABLE \n",
    "## No soup just splinter \n",
    "    browser = init_browser()\n",
    "    browser.visit(url5)\n",
    "#Find titles with tag h3 and assign     \n",
    "    title1 = browser.find_by_tag('h3')[0].text\n",
    "    title2 = browser.find_by_tag('h3')[1].text\n",
    "    title3 = browser.find_by_tag('h3')[2].text\n",
    "    title4 = browser.find_by_tag('h3')[3].text\n",
    "    \n",
    "#click on the class='thumb', next page text \"Sample\" take you to image location    \n",
    "    browser.find_by_css('.thumb')[0].click()\n",
    "    first_img = browser.find_by_text('Sample')['href']\n",
    "    browser.back()\n",
    "\n",
    "    browser.find_by_css('.thumb')[1].click()\n",
    "    second_img = browser.find_by_text('Sample')['href']\n",
    "    browser.back()\n",
    "\n",
    "    browser.find_by_css('.thumb')[2].click()\n",
    "    third_img = browser.find_by_text('Sample')['href']\n",
    "    browser.back()\n",
    "\n",
    "    browser.find_by_css('.thumb')[3].click()\n",
    "    fourth_img = browser.find_by_text('Sample')['href']\n",
    "\n",
    "    hemisphere_image_urls = [\n",
    "        {'title': title1, 'img_url': first_img},\n",
    "        {'title': title2, 'img_url': second_img},\n",
    "        {'title': title3, 'img_url': third_img},\n",
    "        {'title': title4, 'img_url': fourth_img}\n",
    "    ]\n",
    "    db_mars_collection['hemisphere_image_urls'] = hemisphere_image_urls\n",
    "    return(db_mars_collection)\n",
    "    "
   ]
  },
  {
   "cell_type": "code",
   "execution_count": 26,
   "metadata": {},
   "outputs": [
    {
     "name": "stdout",
     "output_type": "stream",
     "text": [
      "Title: MarCO Makes Space for Small Explorers\n",
      "Paragraph: A pair of NASA CubeSats flying to Mars are opening a new frontier for small spacecraft.\n",
      "https://www.jpl.nasa.gov/\n"
     ]
    },
    {
     "data": {
      "text/plain": [
       "{'featured_image_url': 'https://www.jpl.nasa.gov/spaceimages/images/mediumsize/PIA18358_ip.jpg',\n",
       " 'hemisphere_image_urls': [{'img_url': 'http://astropedia.astrogeology.usgs.gov/download/Mars/Viking/cerberus_enhanced.tif/full.jpg',\n",
       "   'title': 'Cerberus Hemisphere Enhanced'},\n",
       "  {'img_url': 'http://astropedia.astrogeology.usgs.gov/download/Mars/Viking/schiaparelli_enhanced.tif/full.jpg',\n",
       "   'title': 'Schiaparelli Hemisphere Enhanced'},\n",
       "  {'img_url': 'http://astropedia.astrogeology.usgs.gov/download/Mars/Viking/syrtis_major_enhanced.tif/full.jpg',\n",
       "   'title': 'Syrtis Major Hemisphere Enhanced'},\n",
       "  {'img_url': 'http://astropedia.astrogeology.usgs.gov/download/Mars/Viking/valles_marineris_enhanced.tif/full.jpg',\n",
       "   'title': 'Valles Marineris Hemisphere Enhanced'}],\n",
       " 'mars_facts': '<table border=\"1\" class=\"dataframe\">\\n  <thead>\\n    <tr style=\"text-align: left;\">\\n      <th></th>\\n      <th>Values</th>\\n    </tr>\\n    <tr>\\n      <th>Parameter</th>\\n      <th></th>\\n    </tr>\\n  </thead>\\n  <tbody>\\n    <tr>\\n      <th>Equatorial Diameter:</th>\\n      <td>6,792 km</td>\\n    </tr>\\n    <tr>\\n      <th>Polar Diameter:</th>\\n      <td>6,752 km</td>\\n    </tr>\\n    <tr>\\n      <th>Mass:</th>\\n      <td>6.42 x 10^23 kg (10.7% Earth)</td>\\n    </tr>\\n    <tr>\\n      <th>Moons:</th>\\n      <td>2 (Phobos &amp; Deimos)</td>\\n    </tr>\\n    <tr>\\n      <th>Orbit Distance:</th>\\n      <td>227,943,824 km (1.52 AU)</td>\\n    </tr>\\n    <tr>\\n      <th>Orbit Period:</th>\\n      <td>687 days (1.9 years)</td>\\n    </tr>\\n    <tr>\\n      <th>Surface Temperature:</th>\\n      <td>-153 to 20 °C</td>\\n    </tr>\\n    <tr>\\n      <th>First Record:</th>\\n      <td>2nd millennium BC</td>\\n    </tr>\\n    <tr>\\n      <th>Recorded By:</th>\\n      <td>Egyptian astronomers</td>\\n    </tr>\\n  </tbody>\\n</table>',\n",
       " 'mars_weather': 'Sol 2171 (2018-09-14), high -12C/10F, low -65C/-84F, pressure at 8.79 hPa, daylight 05:43-17:59',\n",
       " 'news_parapgraph': 'A pair of NASA CubeSats flying to Mars are opening a new frontier for small spacecraft.',\n",
       " 'news_title': 'MarCO Makes Space for Small Explorers'}"
      ]
     },
     "execution_count": 26,
     "metadata": {},
     "output_type": "execute_result"
    }
   ],
   "source": [
    "scrape()"
   ]
  },
  {
   "cell_type": "code",
   "execution_count": null,
   "metadata": {},
   "outputs": [],
   "source": []
  },
  {
   "cell_type": "code",
   "execution_count": null,
   "metadata": {},
   "outputs": [],
   "source": []
  }
 ],
 "metadata": {
  "kernelspec": {
   "display_name": "Python 3",
   "language": "python",
   "name": "python3"
  },
  "language_info": {
   "codemirror_mode": {
    "name": "ipython",
    "version": 3
   },
   "file_extension": ".py",
   "mimetype": "text/x-python",
   "name": "python",
   "nbconvert_exporter": "python",
   "pygments_lexer": "ipython3",
   "version": "3.6.4"
  }
 },
 "nbformat": 4,
 "nbformat_minor": 2
}
